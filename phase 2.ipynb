{
  "metadata": {
    "kernelspec": {
      "name": "python",
      "display_name": "Python (Pyodide)",
      "language": "python"
    },
    "language_info": {
      "codemirror_mode": {
        "name": "python",
        "version": 3
      },
      "file_extension": ".py",
      "mimetype": "text/x-python",
      "name": "python",
      "nbconvert_exporter": "python",
      "pygments_lexer": "ipython3",
      "version": "3.8"
    }
  },
  "nbformat_minor": 4,
  "nbformat": 4,
  "cells": [
    {
      "cell_type": "code",
      "source": "import pandas as pd\nimport os\nos.getcwd()",
      "metadata": {
        "trusted": true
      },
      "outputs": [
        {
          "execution_count": 2,
          "output_type": "execute_result",
          "data": {
            "text/plain": "'/drive/Dataset'"
          },
          "metadata": {}
        }
      ],
      "execution_count": 2
    },
    {
      "cell_type": "code",
      "source": "diabetes = pd.read_csv('/drive/Dataset/Healthcare Diabetes.csv')\ndf= pd.DataFrame(diabetes)",
      "metadata": {
        "trusted": true
      },
      "outputs": [],
      "execution_count": 5
    },
    {
      "cell_type": "code",
      "source": "df.info()",
      "metadata": {
        "trusted": true
      },
      "outputs": [
        {
          "name": "stdout",
          "text": "<class 'pandas.core.frame.DataFrame'>\nRangeIndex: 2768 entries, 0 to 2767\nData columns (total 10 columns):\n #   Column                    Non-Null Count  Dtype  \n---  ------                    --------------  -----  \n 0   Id                        2768 non-null   int64  \n 1   Pregnancies               2768 non-null   int64  \n 2   Glucose                   2768 non-null   int64  \n 3   BloodPressure             2768 non-null   int64  \n 4   SkinThickness             2768 non-null   int64  \n 5   Insulin                   2768 non-null   int64  \n 6   BMI                       2768 non-null   float64\n 7   DiabetesPedigreeFunction  2768 non-null   float64\n 8   Age                       2768 non-null   int64  \n 9   Outcome                   2768 non-null   int64  \ndtypes: float64(2), int64(8)\nmemory usage: 216.3 KB\n",
          "output_type": "stream"
        }
      ],
      "execution_count": 6
    },
    {
      "cell_type": "code",
      "source": "df.describe()",
      "metadata": {
        "trusted": true
      },
      "outputs": [
        {
          "execution_count": 7,
          "output_type": "execute_result",
          "data": {
            "text/plain": "                Id  Pregnancies      Glucose  BloodPressure  SkinThickness  \\\ncount  2768.000000  2768.000000  2768.000000    2768.000000    2768.000000   \nmean   1384.500000     3.742775   121.102601      69.134393      20.824422   \nstd     799.197097     3.323801    32.036508      19.231438      16.059596   \nmin       1.000000     0.000000     0.000000       0.000000       0.000000   \n25%     692.750000     1.000000    99.000000      62.000000       0.000000   \n50%    1384.500000     3.000000   117.000000      72.000000      23.000000   \n75%    2076.250000     6.000000   141.000000      80.000000      32.000000   \nmax    2768.000000    17.000000   199.000000     122.000000     110.000000   \n\n           Insulin          BMI  DiabetesPedigreeFunction          Age  \\\ncount  2768.000000  2768.000000               2768.000000  2768.000000   \nmean     80.127890    32.137392                  0.471193    33.132225   \nstd     112.301933     8.076127                  0.325669    11.777230   \nmin       0.000000     0.000000                  0.078000    21.000000   \n25%       0.000000    27.300000                  0.244000    24.000000   \n50%      37.000000    32.200000                  0.375000    29.000000   \n75%     130.000000    36.625000                  0.624000    40.000000   \nmax     846.000000    80.600000                  2.420000    81.000000   \n\n           Outcome  \ncount  2768.000000  \nmean      0.343931  \nstd       0.475104  \nmin       0.000000  \n25%       0.000000  \n50%       0.000000  \n75%       1.000000  \nmax       1.000000  ",
            "text/html": "<div>\n<style scoped>\n    .dataframe tbody tr th:only-of-type {\n        vertical-align: middle;\n    }\n\n    .dataframe tbody tr th {\n        vertical-align: top;\n    }\n\n    .dataframe thead th {\n        text-align: right;\n    }\n</style>\n<table border=\"1\" class=\"dataframe\">\n  <thead>\n    <tr style=\"text-align: right;\">\n      <th></th>\n      <th>Id</th>\n      <th>Pregnancies</th>\n      <th>Glucose</th>\n      <th>BloodPressure</th>\n      <th>SkinThickness</th>\n      <th>Insulin</th>\n      <th>BMI</th>\n      <th>DiabetesPedigreeFunction</th>\n      <th>Age</th>\n      <th>Outcome</th>\n    </tr>\n  </thead>\n  <tbody>\n    <tr>\n      <th>count</th>\n      <td>2768.000000</td>\n      <td>2768.000000</td>\n      <td>2768.000000</td>\n      <td>2768.000000</td>\n      <td>2768.000000</td>\n      <td>2768.000000</td>\n      <td>2768.000000</td>\n      <td>2768.000000</td>\n      <td>2768.000000</td>\n      <td>2768.000000</td>\n    </tr>\n    <tr>\n      <th>mean</th>\n      <td>1384.500000</td>\n      <td>3.742775</td>\n      <td>121.102601</td>\n      <td>69.134393</td>\n      <td>20.824422</td>\n      <td>80.127890</td>\n      <td>32.137392</td>\n      <td>0.471193</td>\n      <td>33.132225</td>\n      <td>0.343931</td>\n    </tr>\n    <tr>\n      <th>std</th>\n      <td>799.197097</td>\n      <td>3.323801</td>\n      <td>32.036508</td>\n      <td>19.231438</td>\n      <td>16.059596</td>\n      <td>112.301933</td>\n      <td>8.076127</td>\n      <td>0.325669</td>\n      <td>11.777230</td>\n      <td>0.475104</td>\n    </tr>\n    <tr>\n      <th>min</th>\n      <td>1.000000</td>\n      <td>0.000000</td>\n      <td>0.000000</td>\n      <td>0.000000</td>\n      <td>0.000000</td>\n      <td>0.000000</td>\n      <td>0.000000</td>\n      <td>0.078000</td>\n      <td>21.000000</td>\n      <td>0.000000</td>\n    </tr>\n    <tr>\n      <th>25%</th>\n      <td>692.750000</td>\n      <td>1.000000</td>\n      <td>99.000000</td>\n      <td>62.000000</td>\n      <td>0.000000</td>\n      <td>0.000000</td>\n      <td>27.300000</td>\n      <td>0.244000</td>\n      <td>24.000000</td>\n      <td>0.000000</td>\n    </tr>\n    <tr>\n      <th>50%</th>\n      <td>1384.500000</td>\n      <td>3.000000</td>\n      <td>117.000000</td>\n      <td>72.000000</td>\n      <td>23.000000</td>\n      <td>37.000000</td>\n      <td>32.200000</td>\n      <td>0.375000</td>\n      <td>29.000000</td>\n      <td>0.000000</td>\n    </tr>\n    <tr>\n      <th>75%</th>\n      <td>2076.250000</td>\n      <td>6.000000</td>\n      <td>141.000000</td>\n      <td>80.000000</td>\n      <td>32.000000</td>\n      <td>130.000000</td>\n      <td>36.625000</td>\n      <td>0.624000</td>\n      <td>40.000000</td>\n      <td>1.000000</td>\n    </tr>\n    <tr>\n      <th>max</th>\n      <td>2768.000000</td>\n      <td>17.000000</td>\n      <td>199.000000</td>\n      <td>122.000000</td>\n      <td>110.000000</td>\n      <td>846.000000</td>\n      <td>80.600000</td>\n      <td>2.420000</td>\n      <td>81.000000</td>\n      <td>1.000000</td>\n    </tr>\n  </tbody>\n</table>\n</div>"
          },
          "metadata": {}
        }
      ],
      "execution_count": 7
    },
    {
      "cell_type": "code",
      "source": "",
      "metadata": {
        "trusted": true
      },
      "outputs": [],
      "execution_count": null
    }
  ]
}
