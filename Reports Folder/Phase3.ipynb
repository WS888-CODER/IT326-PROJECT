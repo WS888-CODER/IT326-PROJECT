{
 "cells": [
  {
   "cell_type": "code",
   "execution_count": 5,
   "metadata": {},
   "outputs": [],
   "source": [
    "import numpy as np\n",
    "import pandas as pd\n",
    "from sklearn.tree import DecisionTreeClassifier\n",
    "from sklearn.preprocessing import StandardScaler\n",
    "from sklearn import metrics\n",
    "from sklearn.model_selection import train_test_split\n",
    "from sklearn.metrics import accuracy_score, classification_report\n",
    "from sklearn import tree\n",
    "from sklearn.preprocessing import LabelEncoder\n",
    "import matplotlib.pyplot as plt\n",
    "from sklearn.cluster import KMeans\n",
    "from sklearn.metrics import silhouette_score\n",
    "from sklearn.metrics import ConfusionMatrixDisplay\n",
    "from sklearn.metrics import confusion_matrix\n",
    "from sklearn.tree import plot_tree"
   ]
  },
  {
   "cell_type": "code",
   "execution_count": 8,
   "metadata": {},
   "outputs": [
    {
     "name": "stdout",
     "output_type": "stream",
     "text": [
      "   Id  Pregnancies   Glucose  BloodPressure  SkinThickness   Insulin  \\\n",
      "0   1            6  0.743719       0.590164       0.271845  0.168555   \n",
      "1   2            1  0.427136       0.540984       0.213592  0.168555   \n",
      "2   3            8  0.919598       0.524590       0.216404  0.168555   \n",
      "3   4            1  0.447236       0.540984       0.155340  0.096154   \n",
      "4   5            0  0.688442       0.327869       0.271845  0.185096   \n",
      "\n",
      "        BMI  DiabetesPedigreeFunction  Age  Outcome AgeGroup  \n",
      "0  0.246795                  0.234415   50        1    31-50  \n",
      "1  0.134615                  0.116567   31        0    31-50  \n",
      "2  0.081731                  0.253629   32        1    31-50  \n",
      "3  0.158654                  0.038002   21        0     0-30  \n",
      "4  0.399038                  0.943638   33        1    31-50  \n"
     ]
    }
   ],
   "source": [
    "df=pd.read_csv(\"/workspaces/IT326-PROJECT/Dataset Folder/Processed_dataset.csv\")\n",
    "data = pd.DataFrame(df)\n",
    "\n",
    "print(df.head())"
   ]
  },
  {
   "cell_type": "markdown",
   "metadata": {},
   "source": [
    "<h2 style=\"color:#C678DD; font-family:Time New Roman;\">Classification:<br>\n",
    "-------------------------------------------------------------------------</h2>\n"
   ]
  },
  {
   "cell_type": "markdown",
   "metadata": {},
   "source": [
    "<h3 style=\"color:#E06C75; font-family:Time New Roman;\">First:</h3>"
   ]
  },
  {
   "cell_type": "markdown",
   "metadata": {},
   "source": [
    "<p style=\"font-family:Time New Roman;\">Example</p>"
   ]
  },
  {
   "cell_type": "markdown",
   "metadata": {},
   "source": [
    "<h2 style=\"color:#C678DD;font-family:Time New Roman;\">Clustering:<br>\n",
    "-------------------------------------------------------------------------</h2>"
   ]
  }
 ],
 "metadata": {
  "kernelspec": {
   "display_name": "Python 3",
   "language": "python",
   "name": "python3"
  },
  "language_info": {
   "codemirror_mode": {
    "name": "ipython",
    "version": 3
   },
   "file_extension": ".py",
   "mimetype": "text/x-python",
   "name": "python",
   "nbconvert_exporter": "python",
   "pygments_lexer": "ipython3",
   "version": "3.12.1"
  }
 },
 "nbformat": 4,
 "nbformat_minor": 2
}
