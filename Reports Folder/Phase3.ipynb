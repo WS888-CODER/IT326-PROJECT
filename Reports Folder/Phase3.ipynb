{
 "cells": [
  {
   "cell_type": "markdown",
   "metadata": {},
   "source": [
    "<h2 style=\"color:red; font-family:Time New Roman;\">Classification:<br>\n",
    "-------------------------------------------------------------------------</h2>\n"
   ]
  },
  {
   "cell_type": "markdown",
   "metadata": {},
   "source": [
    "<h3 style=\"color:blue; font-family:Time New Roman;\">First:</h3>"
   ]
  },
  {
   "cell_type": "markdown",
   "metadata": {},
   "source": [
    "<p style=\"font-family:Time New Roman;\">Example</p>"
   ]
  },
  {
   "cell_type": "markdown",
   "metadata": {},
   "source": [
    "<h2 style=\"color:red;font-family:Time New Roman;\">Clustering:<br>\n",
    "-------------------------------------------------------------------------</h2>"
   ]
  }
 ],
 "metadata": {
  "language_info": {
   "name": "python"
  }
 },
 "nbformat": 4,
 "nbformat_minor": 2
}
